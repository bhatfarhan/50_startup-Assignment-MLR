{
 "cells": [
  {
   "cell_type": "code",
   "execution_count": 1,
   "id": "9d24ba05",
   "metadata": {},
   "outputs": [],
   "source": [
    "import pandas as pd\n",
    "import numpy as np \n",
    "import matplotlib.pyplot as plt\n",
    "import seaborn as sns\n",
    "import statsmodels.formula.api as smf\n",
    "from statsmodels.graphics.regressionplots import influence_plot\n",
    "from sklearn.preprocessing import LabelEncoder\n",
    "from sklearn import preprocessing"
   ]
  },
  {
   "cell_type": "markdown",
   "id": "6dfcdcc1",
   "metadata": {},
   "source": [
    "# Loading the dataset"
   ]
  },
  {
   "cell_type": "code",
   "execution_count": 2,
   "id": "828e6460",
   "metadata": {},
   "outputs": [
    {
     "data": {
      "text/html": [
       "<div>\n",
       "<style scoped>\n",
       "    .dataframe tbody tr th:only-of-type {\n",
       "        vertical-align: middle;\n",
       "    }\n",
       "\n",
       "    .dataframe tbody tr th {\n",
       "        vertical-align: top;\n",
       "    }\n",
       "\n",
       "    .dataframe thead th {\n",
       "        text-align: right;\n",
       "    }\n",
       "</style>\n",
       "<table border=\"1\" class=\"dataframe\">\n",
       "  <thead>\n",
       "    <tr style=\"text-align: right;\">\n",
       "      <th></th>\n",
       "      <th>R&amp;D Spend</th>\n",
       "      <th>Administration</th>\n",
       "      <th>Marketing Spend</th>\n",
       "      <th>State</th>\n",
       "      <th>Profit</th>\n",
       "    </tr>\n",
       "  </thead>\n",
       "  <tbody>\n",
       "    <tr>\n",
       "      <th>0</th>\n",
       "      <td>165349.20</td>\n",
       "      <td>136897.80</td>\n",
       "      <td>471784.10</td>\n",
       "      <td>New York</td>\n",
       "      <td>192261.83</td>\n",
       "    </tr>\n",
       "    <tr>\n",
       "      <th>1</th>\n",
       "      <td>162597.70</td>\n",
       "      <td>151377.59</td>\n",
       "      <td>443898.53</td>\n",
       "      <td>California</td>\n",
       "      <td>191792.06</td>\n",
       "    </tr>\n",
       "    <tr>\n",
       "      <th>2</th>\n",
       "      <td>153441.51</td>\n",
       "      <td>101145.55</td>\n",
       "      <td>407934.54</td>\n",
       "      <td>Florida</td>\n",
       "      <td>191050.39</td>\n",
       "    </tr>\n",
       "    <tr>\n",
       "      <th>3</th>\n",
       "      <td>144372.41</td>\n",
       "      <td>118671.85</td>\n",
       "      <td>383199.62</td>\n",
       "      <td>New York</td>\n",
       "      <td>182901.99</td>\n",
       "    </tr>\n",
       "    <tr>\n",
       "      <th>4</th>\n",
       "      <td>142107.34</td>\n",
       "      <td>91391.77</td>\n",
       "      <td>366168.42</td>\n",
       "      <td>Florida</td>\n",
       "      <td>166187.94</td>\n",
       "    </tr>\n",
       "  </tbody>\n",
       "</table>\n",
       "</div>"
      ],
      "text/plain": [
       "   R&D Spend  Administration  Marketing Spend       State     Profit\n",
       "0  165349.20       136897.80        471784.10    New York  192261.83\n",
       "1  162597.70       151377.59        443898.53  California  191792.06\n",
       "2  153441.51       101145.55        407934.54     Florida  191050.39\n",
       "3  144372.41       118671.85        383199.62    New York  182901.99\n",
       "4  142107.34        91391.77        366168.42     Florida  166187.94"
      ]
     },
     "execution_count": 2,
     "metadata": {},
     "output_type": "execute_result"
    }
   ],
   "source": [
    "df = pd.read_csv(\"C:\\\\Users\\\\farhanfarooq\\\\Desktop\\\\work files\\\\ExcelR\\\\Assignments\\\\Assign.MLR\\\\50_Startups MLR.csv\")\n",
    "df.head()"
   ]
  },
  {
   "cell_type": "code",
   "execution_count": 3,
   "id": "d91e3307",
   "metadata": {},
   "outputs": [
    {
     "data": {
      "text/plain": [
       "(50, 5)"
      ]
     },
     "execution_count": 3,
     "metadata": {},
     "output_type": "execute_result"
    }
   ],
   "source": [
    "df.shape"
   ]
  },
  {
   "cell_type": "code",
   "execution_count": 5,
   "id": "a2228847",
   "metadata": {},
   "outputs": [
    {
     "name": "stdout",
     "output_type": "stream",
     "text": [
      "<class 'pandas.core.frame.DataFrame'>\n",
      "RangeIndex: 50 entries, 0 to 49\n",
      "Data columns (total 5 columns):\n",
      " #   Column           Non-Null Count  Dtype  \n",
      "---  ------           --------------  -----  \n",
      " 0   R&D Spend        50 non-null     float64\n",
      " 1   Administration   50 non-null     float64\n",
      " 2   Marketing Spend  50 non-null     float64\n",
      " 3   State            50 non-null     object \n",
      " 4   Profit           50 non-null     float64\n",
      "dtypes: float64(4), object(1)\n",
      "memory usage: 2.1+ KB\n"
     ]
    }
   ],
   "source": [
    "df.info()"
   ]
  },
  {
   "cell_type": "code",
   "execution_count": 6,
   "id": "50077a33",
   "metadata": {},
   "outputs": [
    {
     "data": {
      "text/plain": [
       "R&D Spend          0\n",
       "Administration     0\n",
       "Marketing Spend    0\n",
       "State              0\n",
       "Profit             0\n",
       "dtype: int64"
      ]
     },
     "execution_count": 6,
     "metadata": {},
     "output_type": "execute_result"
    }
   ],
   "source": [
    "df.isnull().sum()"
   ]
  },
  {
   "cell_type": "code",
   "execution_count": 7,
   "id": "ce41fbeb",
   "metadata": {},
   "outputs": [
    {
     "data": {
      "text/html": [
       "<div>\n",
       "<style scoped>\n",
       "    .dataframe tbody tr th:only-of-type {\n",
       "        vertical-align: middle;\n",
       "    }\n",
       "\n",
       "    .dataframe tbody tr th {\n",
       "        vertical-align: top;\n",
       "    }\n",
       "\n",
       "    .dataframe thead th {\n",
       "        text-align: right;\n",
       "    }\n",
       "</style>\n",
       "<table border=\"1\" class=\"dataframe\">\n",
       "  <thead>\n",
       "    <tr style=\"text-align: right;\">\n",
       "      <th></th>\n",
       "      <th>R&amp;D Spend</th>\n",
       "      <th>Administration</th>\n",
       "      <th>Marketing Spend</th>\n",
       "      <th>Profit</th>\n",
       "    </tr>\n",
       "  </thead>\n",
       "  <tbody>\n",
       "    <tr>\n",
       "      <th>count</th>\n",
       "      <td>50.000000</td>\n",
       "      <td>50.000000</td>\n",
       "      <td>50.000000</td>\n",
       "      <td>50.000000</td>\n",
       "    </tr>\n",
       "    <tr>\n",
       "      <th>mean</th>\n",
       "      <td>73721.615600</td>\n",
       "      <td>121344.639600</td>\n",
       "      <td>211025.097800</td>\n",
       "      <td>112012.639200</td>\n",
       "    </tr>\n",
       "    <tr>\n",
       "      <th>std</th>\n",
       "      <td>45902.256482</td>\n",
       "      <td>28017.802755</td>\n",
       "      <td>122290.310726</td>\n",
       "      <td>40306.180338</td>\n",
       "    </tr>\n",
       "    <tr>\n",
       "      <th>min</th>\n",
       "      <td>0.000000</td>\n",
       "      <td>51283.140000</td>\n",
       "      <td>0.000000</td>\n",
       "      <td>14681.400000</td>\n",
       "    </tr>\n",
       "    <tr>\n",
       "      <th>25%</th>\n",
       "      <td>39936.370000</td>\n",
       "      <td>103730.875000</td>\n",
       "      <td>129300.132500</td>\n",
       "      <td>90138.902500</td>\n",
       "    </tr>\n",
       "    <tr>\n",
       "      <th>50%</th>\n",
       "      <td>73051.080000</td>\n",
       "      <td>122699.795000</td>\n",
       "      <td>212716.240000</td>\n",
       "      <td>107978.190000</td>\n",
       "    </tr>\n",
       "    <tr>\n",
       "      <th>75%</th>\n",
       "      <td>101602.800000</td>\n",
       "      <td>144842.180000</td>\n",
       "      <td>299469.085000</td>\n",
       "      <td>139765.977500</td>\n",
       "    </tr>\n",
       "    <tr>\n",
       "      <th>max</th>\n",
       "      <td>165349.200000</td>\n",
       "      <td>182645.560000</td>\n",
       "      <td>471784.100000</td>\n",
       "      <td>192261.830000</td>\n",
       "    </tr>\n",
       "  </tbody>\n",
       "</table>\n",
       "</div>"
      ],
      "text/plain": [
       "           R&D Spend  Administration  Marketing Spend         Profit\n",
       "count      50.000000       50.000000        50.000000      50.000000\n",
       "mean    73721.615600   121344.639600    211025.097800  112012.639200\n",
       "std     45902.256482    28017.802755    122290.310726   40306.180338\n",
       "min         0.000000    51283.140000         0.000000   14681.400000\n",
       "25%     39936.370000   103730.875000    129300.132500   90138.902500\n",
       "50%     73051.080000   122699.795000    212716.240000  107978.190000\n",
       "75%    101602.800000   144842.180000    299469.085000  139765.977500\n",
       "max    165349.200000   182645.560000    471784.100000  192261.830000"
      ]
     },
     "execution_count": 7,
     "metadata": {},
     "output_type": "execute_result"
    }
   ],
   "source": [
    "df.describe()"
   ]
  },
  {
   "cell_type": "code",
   "execution_count": 8,
   "id": "97926872",
   "metadata": {
    "scrolled": true
   },
   "outputs": [
    {
     "data": {
      "text/html": [
       "<div>\n",
       "<style scoped>\n",
       "    .dataframe tbody tr th:only-of-type {\n",
       "        vertical-align: middle;\n",
       "    }\n",
       "\n",
       "    .dataframe tbody tr th {\n",
       "        vertical-align: top;\n",
       "    }\n",
       "\n",
       "    .dataframe thead th {\n",
       "        text-align: right;\n",
       "    }\n",
       "</style>\n",
       "<table border=\"1\" class=\"dataframe\">\n",
       "  <thead>\n",
       "    <tr style=\"text-align: right;\">\n",
       "      <th></th>\n",
       "      <th>R&amp;D Spend</th>\n",
       "      <th>Administration</th>\n",
       "      <th>Marketing Spend</th>\n",
       "      <th>Profit</th>\n",
       "    </tr>\n",
       "  </thead>\n",
       "  <tbody>\n",
       "    <tr>\n",
       "      <th>R&amp;D Spend</th>\n",
       "      <td>1.000000</td>\n",
       "      <td>0.241955</td>\n",
       "      <td>0.724248</td>\n",
       "      <td>0.972900</td>\n",
       "    </tr>\n",
       "    <tr>\n",
       "      <th>Administration</th>\n",
       "      <td>0.241955</td>\n",
       "      <td>1.000000</td>\n",
       "      <td>-0.032154</td>\n",
       "      <td>0.200717</td>\n",
       "    </tr>\n",
       "    <tr>\n",
       "      <th>Marketing Spend</th>\n",
       "      <td>0.724248</td>\n",
       "      <td>-0.032154</td>\n",
       "      <td>1.000000</td>\n",
       "      <td>0.747766</td>\n",
       "    </tr>\n",
       "    <tr>\n",
       "      <th>Profit</th>\n",
       "      <td>0.972900</td>\n",
       "      <td>0.200717</td>\n",
       "      <td>0.747766</td>\n",
       "      <td>1.000000</td>\n",
       "    </tr>\n",
       "  </tbody>\n",
       "</table>\n",
       "</div>"
      ],
      "text/plain": [
       "                 R&D Spend  Administration  Marketing Spend    Profit\n",
       "R&D Spend         1.000000        0.241955         0.724248  0.972900\n",
       "Administration    0.241955        1.000000        -0.032154  0.200717\n",
       "Marketing Spend   0.724248       -0.032154         1.000000  0.747766\n",
       "Profit            0.972900        0.200717         0.747766  1.000000"
      ]
     },
     "execution_count": 8,
     "metadata": {},
     "output_type": "execute_result"
    }
   ],
   "source": [
    "df.corr()"
   ]
  },
  {
   "cell_type": "markdown",
   "id": "eabe6c05",
   "metadata": {},
   "source": [
    "# visualising the data"
   ]
  },
  {
   "cell_type": "code",
   "execution_count": 10,
   "id": "ce474338",
   "metadata": {},
   "outputs": [
    {
     "data": {
      "text/plain": [
       "<seaborn.axisgrid.PairGrid at 0x130c16fa940>"
      ]
     },
     "execution_count": 10,
     "metadata": {},
     "output_type": "execute_result"
    },
    {
     "data": {
      "image/png": "[encoded data removed]",
      "text/plain": [
       "<Figure size 720x720 with 20 Axes>"
      ]
     },
     "metadata": {},
     "output_type": "display_data"
    }
   ],
   "source": [
    "sns.set_style(style='darkgrid')\n",
    "sns.pairplot(df)"
   ]
  },
  {
   "cell_type": "code",
   "execution_count": 11,
   "id": "98d5b097",
   "metadata": {
    "scrolled": true
   },
   "outputs": [
    {
     "data": {
      "text/plain": [
       "<AxesSubplot:xlabel='R&D Spend', ylabel='Profit'>"
      ]
     },
     "execution_count": 11,
     "metadata": {},
     "output_type": "execute_result"
    },
    {
     "data": {
      "image/png": "[encoded data removed]",
      "text/plain": [
       "<Figure size 432x288 with 1 Axes>"
      ]
     },
     "metadata": {},
     "output_type": "display_data"
    }
   ],
   "source": [
    "sns.regplot(x='R&D Spend',y='Profit',data=df,color='y')"
   ]
  },
  {
   "cell_type": "code",
   "execution_count": 12,
   "id": "044dc2fb",
   "metadata": {
    "scrolled": true
   },
   "outputs": [
    {
     "data": {
      "text/plain": [
       "<AxesSubplot:>"
      ]
     },
     "execution_count": 12,
     "metadata": {},
     "output_type": "execute_result"
    },
    {
     "data": {
      "image/png": "[encoded data removed]",
      "text/plain": [
       "<Figure size 432x288 with 2 Axes>"
      ]
     },
     "metadata": {},
     "output_type": "display_data"
    }
   ],
   "source": [
    "sns.heatmap(df.corr(),annot=True)"
   ]
  },
  {
   "cell_type": "markdown",
   "id": "9166f132",
   "metadata": {},
   "source": [
    "# Renaming the columns"
   ]
  },
  {
   "cell_type": "code",
   "execution_count": 17,
   "id": "d0c16bf5",
   "metadata": {},
   "outputs": [
    {
     "data": {
      "text/html": [
       "<div>\n",
       "<style scoped>\n",
       "    .dataframe tbody tr th:only-of-type {\n",
       "        vertical-align: middle;\n",
       "    }\n",
       "\n",
       "    .dataframe tbody tr th {\n",
       "        vertical-align: top;\n",
       "    }\n",
       "\n",
       "    .dataframe thead th {\n",
       "        text-align: right;\n",
       "    }\n",
       "</style>\n",
       "<table border=\"1\" class=\"dataframe\">\n",
       "  <thead>\n",
       "    <tr style=\"text-align: right;\">\n",
       "      <th></th>\n",
       "      <th>RDS</th>\n",
       "      <th>ADS</th>\n",
       "      <th>MS</th>\n",
       "      <th>State</th>\n",
       "      <th>Profit</th>\n",
       "    </tr>\n",
       "  </thead>\n",
       "  <tbody>\n",
       "    <tr>\n",
       "      <th>0</th>\n",
       "      <td>165349.20</td>\n",
       "      <td>136897.80</td>\n",
       "      <td>471784.10</td>\n",
       "      <td>New York</td>\n",
       "      <td>192261.83</td>\n",
       "    </tr>\n",
       "    <tr>\n",
       "      <th>1</th>\n",
       "      <td>162597.70</td>\n",
       "      <td>151377.59</td>\n",
       "      <td>443898.53</td>\n",
       "      <td>California</td>\n",
       "      <td>191792.06</td>\n",
       "    </tr>\n",
       "    <tr>\n",
       "      <th>2</th>\n",
       "      <td>153441.51</td>\n",
       "      <td>101145.55</td>\n",
       "      <td>407934.54</td>\n",
       "      <td>Florida</td>\n",
       "      <td>191050.39</td>\n",
       "    </tr>\n",
       "    <tr>\n",
       "      <th>3</th>\n",
       "      <td>144372.41</td>\n",
       "      <td>118671.85</td>\n",
       "      <td>383199.62</td>\n",
       "      <td>New York</td>\n",
       "      <td>182901.99</td>\n",
       "    </tr>\n",
       "    <tr>\n",
       "      <th>4</th>\n",
       "      <td>142107.34</td>\n",
       "      <td>91391.77</td>\n",
       "      <td>366168.42</td>\n",
       "      <td>Florida</td>\n",
       "      <td>166187.94</td>\n",
       "    </tr>\n",
       "  </tbody>\n",
       "</table>\n",
       "</div>"
      ],
      "text/plain": [
       "         RDS        ADS         MS       State     Profit\n",
       "0  165349.20  136897.80  471784.10    New York  192261.83\n",
       "1  162597.70  151377.59  443898.53  California  191792.06\n",
       "2  153441.51  101145.55  407934.54     Florida  191050.39\n",
       "3  144372.41  118671.85  383199.62    New York  182901.99\n",
       "4  142107.34   91391.77  366168.42     Florida  166187.94"
      ]
     },
     "execution_count": 17,
     "metadata": {},
     "output_type": "execute_result"
    }
   ],
   "source": [
    "df1=df.rename({'R&D Spend':'RDS','Administration':'ADS','Marketing Spend':'MS'},axis=1)\n",
    "df1.head()"
   ]
  },
  {
   "cell_type": "markdown",
   "id": "ec06144b",
   "metadata": {},
   "source": [
    "# Preparing Models"
   ]
  },
  {
   "cell_type": "code",
   "execution_count": 18,
   "id": "f8232bb9",
   "metadata": {},
   "outputs": [],
   "source": [
    "import statsmodels.formula.api as smf\n",
    "model = smf.ols('Profit~RDS+ADS+MS',data=df1).fit()"
   ]
  },
  {
   "cell_type": "code",
   "execution_count": 19,
   "id": "2f6a3ff5",
   "metadata": {},
   "outputs": [
    {
     "data": {
      "text/plain": [
       "0     192521.252890\n",
       "1     189156.768232\n",
       "2     182147.279096\n",
       "3     173696.700026\n",
       "4     172139.514183\n",
       "5     163580.780571\n",
       "6     158114.096669\n",
       "7     160021.363048\n",
       "8     151741.699699\n",
       "9     154884.684110\n",
       "10    135509.016367\n",
       "11    135573.712961\n",
       "12    129138.054182\n",
       "13    127487.991663\n",
       "14    149548.646335\n",
       "15    146235.159985\n",
       "16    116915.405401\n",
       "17    130192.447208\n",
       "18    129014.226806\n",
       "19    115635.216367\n",
       "20    116639.669231\n",
       "21    117319.451640\n",
       "22    114706.981717\n",
       "23    109996.615221\n",
       "24    113362.966113\n",
       "25    102237.725065\n",
       "26    110600.575350\n",
       "27    114408.071457\n",
       "28    101660.026005\n",
       "29    101794.983452\n",
       "30     99452.372936\n",
       "31     97687.856276\n",
       "32     99001.328985\n",
       "33     97915.007805\n",
       "34     89039.273741\n",
       "35     90511.599568\n",
       "36     75286.174585\n",
       "37     89619.537708\n",
       "38     69697.430648\n",
       "39     83729.011977\n",
       "40     74815.953991\n",
       "41     74802.556239\n",
       "42     70620.411821\n",
       "43     60167.039963\n",
       "44     64611.354916\n",
       "45     47650.649687\n",
       "46     56166.206853\n",
       "47     46490.588983\n",
       "48     49171.388158\n",
       "49     48215.134111\n",
       "dtype: float64"
      ]
     },
     "execution_count": 19,
     "metadata": {},
     "output_type": "execute_result"
    }
   ],
   "source": [
    "model.fittedvalues"
   ]
  },
  {
   "cell_type": "code",
   "execution_count": 20,
   "id": "e5e4be81",
   "metadata": {
    "scrolled": true
   },
   "outputs": [
    {
     "data": {
      "text/plain": [
       "Intercept    50122.192990\n",
       "RDS              0.805715\n",
       "ADS             -0.026816\n",
       "MS               0.027228\n",
       "dtype: float64"
      ]
     },
     "execution_count": 20,
     "metadata": {},
     "output_type": "execute_result"
    }
   ],
   "source": [
    "#Beta Coefficients\n",
    "model.params"
   ]
  },
  {
   "cell_type": "code",
   "execution_count": 21,
   "id": "5d03f3e5",
   "metadata": {},
   "outputs": [
    {
     "name": "stdout",
     "output_type": "stream",
     "text": [
      "Intercept     7.626218\n",
      "RDS          17.846374\n",
      "ADS          -0.525507\n",
      "MS            1.655077\n",
      "dtype: float64 \n",
      " Intercept    1.057379e-09\n",
      "RDS          2.634968e-22\n",
      "ADS          6.017551e-01\n",
      "MS           1.047168e-01\n",
      "dtype: float64\n"
     ]
    }
   ],
   "source": [
    "#finding t and p_values\n",
    "print(model.tvalues, '\\n', model.pvalues)"
   ]
  },
  {
   "cell_type": "code",
   "execution_count": 26,
   "id": "8377192d",
   "metadata": {},
   "outputs": [
    {
     "data": {
      "text/plain": [
       "(0.9507459940683246, 0.9475337762901719)"
      ]
     },
     "execution_count": 26,
     "metadata": {},
     "output_type": "execute_result"
    }
   ],
   "source": [
    "#R squared values\n",
    "(model.rsquared,model.rsquared_adj)"
   ]
  },
  {
   "cell_type": "markdown",
   "id": "ec08ef02",
   "metadata": {},
   "source": [
    "# Simple Linear Regression"
   ]
  },
  {
   "cell_type": "code",
   "execution_count": 23,
   "id": "d14900bc",
   "metadata": {},
   "outputs": [
    {
     "name": "stdout",
     "output_type": "stream",
     "text": [
      "Intercept    2.782697e-24\n",
      "RDS          3.500322e-32\n",
      "dtype: float64 \n",
      " Intercept    2.782697e-24\n",
      "RDS          3.500322e-32\n",
      "dtype: float64\n"
     ]
    }
   ],
   "source": [
    "ml_R=smf.ols('Profit~RDS',data=df1).fit()\n",
    "# t and p_values\n",
    "print(ml_R.pvalues, '\\n', ml_R.pvalues)"
   ]
  },
  {
   "cell_type": "code",
   "execution_count": 24,
   "id": "459828fa",
   "metadata": {},
   "outputs": [
    {
     "name": "stdout",
     "output_type": "stream",
     "text": [
      "Intercept    0.003824\n",
      "ADS          0.162217\n",
      "dtype: float64 \n",
      " Intercept    3.040044\n",
      "ADS          1.419493\n",
      "dtype: float64\n"
     ]
    }
   ],
   "source": [
    "ml_A=smf.ols('Profit~ADS',data=df1).fit()\n",
    "print(ml_A.pvalues, '\\n', ml_A.tvalues)"
   ]
  },
  {
   "cell_type": "code",
   "execution_count": 25,
   "id": "36b79684",
   "metadata": {},
   "outputs": [
    {
     "name": "stdout",
     "output_type": "stream",
     "text": [
      "Intercept    4.294735e-10\n",
      "MS           4.381073e-10\n",
      "dtype: float64 \n",
      " Intercept    7.808356\n",
      "MS           7.802657\n",
      "dtype: float64\n"
     ]
    }
   ],
   "source": [
    "ml_M=smf.ols('Profit~MS',data=df1).fit()\n",
    "print(ml_M.pvalues, '\\n', ml_M.tvalues)"
   ]
  },
  {
   "cell_type": "markdown",
   "id": "52c6db4a",
   "metadata": {},
   "source": [
    "# Calculating VIF (Variance Inflation Factor)"
   ]
  },
  {
   "cell_type": "code",
   "execution_count": 32,
   "id": "fa0e6d78",
   "metadata": {},
   "outputs": [
    {
     "data": {
      "text/html": [
       "<div>\n",
       "<style scoped>\n",
       "    .dataframe tbody tr th:only-of-type {\n",
       "        vertical-align: middle;\n",
       "    }\n",
       "\n",
       "    .dataframe tbody tr th {\n",
       "        vertical-align: top;\n",
       "    }\n",
       "\n",
       "    .dataframe thead th {\n",
       "        text-align: right;\n",
       "    }\n",
       "</style>\n",
       "<table border=\"1\" class=\"dataframe\">\n",
       "  <thead>\n",
       "    <tr style=\"text-align: right;\">\n",
       "      <th></th>\n",
       "      <th>Variables</th>\n",
       "      <th>VIF</th>\n",
       "    </tr>\n",
       "  </thead>\n",
       "  <tbody>\n",
       "    <tr>\n",
       "      <th>0</th>\n",
       "      <td>RDS</td>\n",
       "      <td>2.468903</td>\n",
       "    </tr>\n",
       "    <tr>\n",
       "      <th>1</th>\n",
       "      <td>ADS</td>\n",
       "      <td>1.175091</td>\n",
       "    </tr>\n",
       "    <tr>\n",
       "      <th>2</th>\n",
       "      <td>MS</td>\n",
       "      <td>2.326773</td>\n",
       "    </tr>\n",
       "  </tbody>\n",
       "</table>\n",
       "</div>"
      ],
      "text/plain": [
       "  Variables       VIF\n",
       "0       RDS  2.468903\n",
       "1       ADS  1.175091\n",
       "2        MS  2.326773"
      ]
     },
     "execution_count": 32,
     "metadata": {},
     "output_type": "execute_result"
    }
   ],
   "source": [
    "rsq_RD = smf.ols('RDS~ADS+MS',data=df1).fit().rsquared\n",
    "vif_RD = 1/(1-rsq_RD)  # 2.4689030699947017\n",
    "\n",
    "rsq_AD = smf.ols('ADS~RDS+MS',data=df1).fit().rsquared\n",
    "vif_AD = 1/(1-rsq_AD) # 1.1750910070550453\n",
    "\n",
    "rsq_M = smf.ols('MS~ADS+RDS',data=df1).fit().rsquared\n",
    "vif_M = 1/(1-rsq_M) # 2.3267732905308773\n",
    "\n",
    "#Storing vif in a dataframe\n",
    "d1 = {'Variables':['RDS','ADS','MS'],'VIF':[vif_RD,vif_AD,vif_M]}\n",
    "Vif_frame = pd.DataFrame(d1)\n",
    "Vif_frame"
   ]
  },
  {
   "cell_type": "code",
   "execution_count": 39,
   "id": "899b1645",
   "metadata": {},
   "outputs": [
    {
     "data": {
      "text/html": [
       "<div>\n",
       "<style scoped>\n",
       "    .dataframe tbody tr th:only-of-type {\n",
       "        vertical-align: middle;\n",
       "    }\n",
       "\n",
       "    .dataframe tbody tr th {\n",
       "        vertical-align: top;\n",
       "    }\n",
       "\n",
       "    .dataframe thead th {\n",
       "        text-align: right;\n",
       "    }\n",
       "</style>\n",
       "<table border=\"1\" class=\"dataframe\">\n",
       "  <thead>\n",
       "    <tr style=\"text-align: right;\">\n",
       "      <th></th>\n",
       "      <th>RDS</th>\n",
       "      <th>ADS</th>\n",
       "      <th>MS</th>\n",
       "      <th>State</th>\n",
       "      <th>Profit</th>\n",
       "      <th>Predicted Profit</th>\n",
       "      <th>Errors</th>\n",
       "      <th>Predicted</th>\n",
       "    </tr>\n",
       "  </thead>\n",
       "  <tbody>\n",
       "    <tr>\n",
       "      <th>0</th>\n",
       "      <td>165349.20</td>\n",
       "      <td>136897.80</td>\n",
       "      <td>471784.10</td>\n",
       "      <td>New York</td>\n",
       "      <td>192261.83</td>\n",
       "      <td>192521.252890</td>\n",
       "      <td>-259.422890</td>\n",
       "      <td>192521.252890</td>\n",
       "    </tr>\n",
       "    <tr>\n",
       "      <th>1</th>\n",
       "      <td>162597.70</td>\n",
       "      <td>151377.59</td>\n",
       "      <td>443898.53</td>\n",
       "      <td>California</td>\n",
       "      <td>191792.06</td>\n",
       "      <td>189156.768232</td>\n",
       "      <td>2635.291768</td>\n",
       "      <td>189156.768232</td>\n",
       "    </tr>\n",
       "    <tr>\n",
       "      <th>2</th>\n",
       "      <td>153441.51</td>\n",
       "      <td>101145.55</td>\n",
       "      <td>407934.54</td>\n",
       "      <td>Florida</td>\n",
       "      <td>191050.39</td>\n",
       "      <td>182147.279096</td>\n",
       "      <td>8903.110904</td>\n",
       "      <td>182147.279096</td>\n",
       "    </tr>\n",
       "    <tr>\n",
       "      <th>3</th>\n",
       "      <td>144372.41</td>\n",
       "      <td>118671.85</td>\n",
       "      <td>383199.62</td>\n",
       "      <td>New York</td>\n",
       "      <td>182901.99</td>\n",
       "      <td>173696.700026</td>\n",
       "      <td>9205.289974</td>\n",
       "      <td>173696.700026</td>\n",
       "    </tr>\n",
       "    <tr>\n",
       "      <th>4</th>\n",
       "      <td>142107.34</td>\n",
       "      <td>91391.77</td>\n",
       "      <td>366168.42</td>\n",
       "      <td>Florida</td>\n",
       "      <td>166187.94</td>\n",
       "      <td>172139.514183</td>\n",
       "      <td>-5951.574183</td>\n",
       "      <td>172139.514183</td>\n",
       "    </tr>\n",
       "    <tr>\n",
       "      <th>5</th>\n",
       "      <td>131876.90</td>\n",
       "      <td>99814.71</td>\n",
       "      <td>362861.36</td>\n",
       "      <td>New York</td>\n",
       "      <td>156991.12</td>\n",
       "      <td>163580.780571</td>\n",
       "      <td>-6589.660571</td>\n",
       "      <td>163580.780571</td>\n",
       "    </tr>\n",
       "    <tr>\n",
       "      <th>6</th>\n",
       "      <td>134615.46</td>\n",
       "      <td>147198.87</td>\n",
       "      <td>127716.82</td>\n",
       "      <td>California</td>\n",
       "      <td>156122.51</td>\n",
       "      <td>158114.096669</td>\n",
       "      <td>-1991.586669</td>\n",
       "      <td>158114.096669</td>\n",
       "    </tr>\n",
       "    <tr>\n",
       "      <th>7</th>\n",
       "      <td>130298.13</td>\n",
       "      <td>145530.06</td>\n",
       "      <td>323876.68</td>\n",
       "      <td>Florida</td>\n",
       "      <td>155752.60</td>\n",
       "      <td>160021.363048</td>\n",
       "      <td>-4268.763048</td>\n",
       "      <td>160021.363048</td>\n",
       "    </tr>\n",
       "    <tr>\n",
       "      <th>8</th>\n",
       "      <td>120542.52</td>\n",
       "      <td>148718.95</td>\n",
       "      <td>311613.29</td>\n",
       "      <td>New York</td>\n",
       "      <td>152211.77</td>\n",
       "      <td>151741.699699</td>\n",
       "      <td>470.070301</td>\n",
       "      <td>151741.699699</td>\n",
       "    </tr>\n",
       "    <tr>\n",
       "      <th>9</th>\n",
       "      <td>123334.88</td>\n",
       "      <td>108679.17</td>\n",
       "      <td>304981.62</td>\n",
       "      <td>California</td>\n",
       "      <td>149759.96</td>\n",
       "      <td>154884.684110</td>\n",
       "      <td>-5124.724110</td>\n",
       "      <td>154884.684110</td>\n",
       "    </tr>\n",
       "  </tbody>\n",
       "</table>\n",
       "</div>"
      ],
      "text/plain": [
       "         RDS        ADS         MS       State     Profit  Predicted Profit  \\\n",
       "0  165349.20  136897.80  471784.10    New York  192261.83     192521.252890   \n",
       "1  162597.70  151377.59  443898.53  California  191792.06     189156.768232   \n",
       "2  153441.51  101145.55  407934.54     Florida  191050.39     182147.279096   \n",
       "3  144372.41  118671.85  383199.62    New York  182901.99     173696.700026   \n",
       "4  142107.34   91391.77  366168.42     Florida  166187.94     172139.514183   \n",
       "5  131876.90   99814.71  362861.36    New York  156991.12     163580.780571   \n",
       "6  134615.46  147198.87  127716.82  California  156122.51     158114.096669   \n",
       "7  130298.13  145530.06  323876.68     Florida  155752.60     160021.363048   \n",
       "8  120542.52  148718.95  311613.29    New York  152211.77     151741.699699   \n",
       "9  123334.88  108679.17  304981.62  California  149759.96     154884.684110   \n",
       "\n",
       "        Errors      Predicted  \n",
       "0  -259.422890  192521.252890  \n",
       "1  2635.291768  189156.768232  \n",
       "2  8903.110904  182147.279096  \n",
       "3  9205.289974  173696.700026  \n",
       "4 -5951.574183  172139.514183  \n",
       "5 -6589.660571  163580.780571  \n",
       "6 -1991.586669  158114.096669  \n",
       "7 -4268.763048  160021.363048  \n",
       "8   470.070301  151741.699699  \n",
       "9 -5124.724110  154884.684110  "
      ]
     },
     "execution_count": 39,
     "metadata": {},
     "output_type": "execute_result"
    }
   ],
   "source": [
    "df1['Predicted Profit'] = model.fittedvalues\n",
    "df1['Errors'] = model.resid\n",
    "df1.head(10)"
   ]
  },
  {
   "cell_type": "code",
   "execution_count": 41,
   "id": "f9d187b5",
   "metadata": {},
   "outputs": [
    {
     "data": {
      "text/html": [
       "<div>\n",
       "<style scoped>\n",
       "    .dataframe tbody tr th:only-of-type {\n",
       "        vertical-align: middle;\n",
       "    }\n",
       "\n",
       "    .dataframe tbody tr th {\n",
       "        vertical-align: top;\n",
       "    }\n",
       "\n",
       "    .dataframe thead th {\n",
       "        text-align: right;\n",
       "    }\n",
       "</style>\n",
       "<table border=\"1\" class=\"dataframe\">\n",
       "  <thead>\n",
       "    <tr style=\"text-align: right;\">\n",
       "      <th></th>\n",
       "      <th>RDS</th>\n",
       "      <th>ADS</th>\n",
       "      <th>MS</th>\n",
       "      <th>State</th>\n",
       "      <th>Profit</th>\n",
       "      <th>Predicted Profit</th>\n",
       "      <th>Errors</th>\n",
       "    </tr>\n",
       "  </thead>\n",
       "  <tbody>\n",
       "    <tr>\n",
       "      <th>0</th>\n",
       "      <td>165349.20</td>\n",
       "      <td>136897.80</td>\n",
       "      <td>471784.10</td>\n",
       "      <td>New York</td>\n",
       "      <td>192261.83</td>\n",
       "      <td>192521.252890</td>\n",
       "      <td>-259.422890</td>\n",
       "    </tr>\n",
       "    <tr>\n",
       "      <th>1</th>\n",
       "      <td>162597.70</td>\n",
       "      <td>151377.59</td>\n",
       "      <td>443898.53</td>\n",
       "      <td>California</td>\n",
       "      <td>191792.06</td>\n",
       "      <td>189156.768232</td>\n",
       "      <td>2635.291768</td>\n",
       "    </tr>\n",
       "    <tr>\n",
       "      <th>2</th>\n",
       "      <td>153441.51</td>\n",
       "      <td>101145.55</td>\n",
       "      <td>407934.54</td>\n",
       "      <td>Florida</td>\n",
       "      <td>191050.39</td>\n",
       "      <td>182147.279096</td>\n",
       "      <td>8903.110904</td>\n",
       "    </tr>\n",
       "    <tr>\n",
       "      <th>3</th>\n",
       "      <td>144372.41</td>\n",
       "      <td>118671.85</td>\n",
       "      <td>383199.62</td>\n",
       "      <td>New York</td>\n",
       "      <td>182901.99</td>\n",
       "      <td>173696.700026</td>\n",
       "      <td>9205.289974</td>\n",
       "    </tr>\n",
       "    <tr>\n",
       "      <th>4</th>\n",
       "      <td>142107.34</td>\n",
       "      <td>91391.77</td>\n",
       "      <td>366168.42</td>\n",
       "      <td>Florida</td>\n",
       "      <td>166187.94</td>\n",
       "      <td>172139.514183</td>\n",
       "      <td>-5951.574183</td>\n",
       "    </tr>\n",
       "    <tr>\n",
       "      <th>5</th>\n",
       "      <td>131876.90</td>\n",
       "      <td>99814.71</td>\n",
       "      <td>362861.36</td>\n",
       "      <td>New York</td>\n",
       "      <td>156991.12</td>\n",
       "      <td>163580.780571</td>\n",
       "      <td>-6589.660571</td>\n",
       "    </tr>\n",
       "    <tr>\n",
       "      <th>6</th>\n",
       "      <td>134615.46</td>\n",
       "      <td>147198.87</td>\n",
       "      <td>127716.82</td>\n",
       "      <td>California</td>\n",
       "      <td>156122.51</td>\n",
       "      <td>158114.096669</td>\n",
       "      <td>-1991.586669</td>\n",
       "    </tr>\n",
       "    <tr>\n",
       "      <th>7</th>\n",
       "      <td>130298.13</td>\n",
       "      <td>145530.06</td>\n",
       "      <td>323876.68</td>\n",
       "      <td>Florida</td>\n",
       "      <td>155752.60</td>\n",
       "      <td>160021.363048</td>\n",
       "      <td>-4268.763048</td>\n",
       "    </tr>\n",
       "    <tr>\n",
       "      <th>8</th>\n",
       "      <td>120542.52</td>\n",
       "      <td>148718.95</td>\n",
       "      <td>311613.29</td>\n",
       "      <td>New York</td>\n",
       "      <td>152211.77</td>\n",
       "      <td>151741.699699</td>\n",
       "      <td>470.070301</td>\n",
       "    </tr>\n",
       "    <tr>\n",
       "      <th>9</th>\n",
       "      <td>123334.88</td>\n",
       "      <td>108679.17</td>\n",
       "      <td>304981.62</td>\n",
       "      <td>California</td>\n",
       "      <td>149759.96</td>\n",
       "      <td>154884.684110</td>\n",
       "      <td>-5124.724110</td>\n",
       "    </tr>\n",
       "  </tbody>\n",
       "</table>\n",
       "</div>"
      ],
      "text/plain": [
       "         RDS        ADS         MS       State     Profit  Predicted Profit  \\\n",
       "0  165349.20  136897.80  471784.10    New York  192261.83     192521.252890   \n",
       "1  162597.70  151377.59  443898.53  California  191792.06     189156.768232   \n",
       "2  153441.51  101145.55  407934.54     Florida  191050.39     182147.279096   \n",
       "3  144372.41  118671.85  383199.62    New York  182901.99     173696.700026   \n",
       "4  142107.34   91391.77  366168.42     Florida  166187.94     172139.514183   \n",
       "5  131876.90   99814.71  362861.36    New York  156991.12     163580.780571   \n",
       "6  134615.46  147198.87  127716.82  California  156122.51     158114.096669   \n",
       "7  130298.13  145530.06  323876.68     Florida  155752.60     160021.363048   \n",
       "8  120542.52  148718.95  311613.29    New York  152211.77     151741.699699   \n",
       "9  123334.88  108679.17  304981.62  California  149759.96     154884.684110   \n",
       "\n",
       "        Errors  \n",
       "0  -259.422890  \n",
       "1  2635.291768  \n",
       "2  8903.110904  \n",
       "3  9205.289974  \n",
       "4 -5951.574183  \n",
       "5 -6589.660571  \n",
       "6 -1991.586669  \n",
       "7 -4268.763048  \n",
       "8   470.070301  \n",
       "9 -5124.724110  "
      ]
     },
     "execution_count": 41,
     "metadata": {},
     "output_type": "execute_result"
    }
   ],
   "source": [
    "df2=df1.drop(['Predicted'],axis=1)\n",
    "df2.head(10)"
   ]
  },
  {
   "cell_type": "markdown",
   "id": "fa2f2c3f",
   "metadata": {},
   "source": [
    "# Residual Analysis"
   ]
  },
  {
   "cell_type": "markdown",
   "id": "dd73e635",
   "metadata": {},
   "source": [
    "# Test for Normality of Residuals (Q-Q PLot)"
   ]
  },
  {
   "cell_type": "code",
   "execution_count": 43,
   "id": "fc855cb4",
   "metadata": {},
   "outputs": [
    {
     "data": {
      "text/plain": [
       "0      -259.422890\n",
       "1      2635.291768\n",
       "2      8903.110904\n",
       "3      9205.289974\n",
       "4     -5951.574183\n",
       "5     -6589.660571\n",
       "6     -1991.586669\n",
       "7     -4268.763048\n",
       "8       470.070301\n",
       "9     -5124.724110\n",
       "10    10612.933633\n",
       "11     8685.687039\n",
       "12    12447.465818\n",
       "13     6819.358337\n",
       "14   -16945.996335\n",
       "15   -16318.119985\n",
       "16    10077.524599\n",
       "17    -4822.077208\n",
       "18    -4747.326806\n",
       "19     7141.643633\n",
       "20     1834.360769\n",
       "21    -6006.431640\n",
       "22    -4354.731717\n",
       "23    -1262.625221\n",
       "24    -4810.926113\n",
       "25     5166.614935\n",
       "26    -4867.035350\n",
       "27    -9399.761457\n",
       "28     1622.353995\n",
       "29     -790.343452\n",
       "30      485.217064\n",
       "31     -204.296276\n",
       "32    -1573.488985\n",
       "33    -1136.087805\n",
       "34     7673.526259\n",
       "35     5967.910432\n",
       "36    15422.015415\n",
       "37      329.602292\n",
       "38    11531.629352\n",
       "39    -2723.251977\n",
       "40     3423.956009\n",
       "41     2996.273761\n",
       "42      878.078179\n",
       "43     9591.940037\n",
       "44      588.975084\n",
       "45    17275.430313\n",
       "46    -6675.456853\n",
       "47    -3930.858983\n",
       "48   -13497.978158\n",
       "49   -33533.734111\n",
       "dtype: float64"
      ]
     },
     "execution_count": 43,
     "metadata": {},
     "output_type": "execute_result"
    }
   ],
   "source": [
    "model.resid"
   ]
  },
  {
   "cell_type": "code",
   "execution_count": 44,
   "id": "1a55723d",
   "metadata": {},
   "outputs": [
    {
     "data": {
      "image/png": "[encoded data removed]",
      "text/plain": [
       "<Figure size 432x288 with 1 Axes>"
      ]
     },
     "metadata": {},
     "output_type": "display_data"
    }
   ],
   "source": [
    "import statsmodels.api as sm\n",
    "qqplot=sm.qqplot(model.resid,line = 'q')\n",
    "plt.title('Normal Q-Q plot of residuals')\n",
    "plt.show()"
   ]
  },
  {
   "cell_type": "code",
   "execution_count": 50,
   "id": "8505801b",
   "metadata": {},
   "outputs": [
    {
     "data": {
      "text/plain": [
       "[array([36, 45], dtype=int64)]"
      ]
     },
     "execution_count": 50,
     "metadata": {},
     "output_type": "execute_result"
    }
   ],
   "source": [
    "list(np.where(model.resid>15000))"
   ]
  },
  {
   "cell_type": "code",
   "execution_count": 46,
   "id": "5485903b",
   "metadata": {},
   "outputs": [
    {
     "name": "stderr",
     "output_type": "stream",
     "text": [
      "C:\\Users\\farhanfarooq\\anaconda3\\lib\\site-packages\\seaborn\\_decorators.py:36: FutureWarning: Pass the following variable as a keyword arg: x. From version 0.12, the only valid positional argument will be `data`, and passing other arguments without an explicit keyword will result in an error or misinterpretation.\n",
      "  warnings.warn(\n"
     ]
    },
    {
     "data": {
      "text/plain": [
       "<AxesSubplot:xlabel='Errors'>"
      ]
     },
     "execution_count": 46,
     "metadata": {},
     "output_type": "execute_result"
    },
    {
     "data": {
      "image/png": "[encoded data removed]",
      "text/plain": [
       "<Figure size 432x288 with 1 Axes>"
      ]
     },
     "metadata": {},
     "output_type": "display_data"
    }
   ],
   "source": [
    "sns.boxplot(df2['Errors'])"
   ]
  },
  {
   "cell_type": "code",
   "execution_count": 47,
   "id": "90b21ad1",
   "metadata": {},
   "outputs": [
    {
     "data": {
      "text/plain": [
       "<AxesSubplot:xlabel='Errors', ylabel='Count'>"
      ]
     },
     "execution_count": 47,
     "metadata": {},
     "output_type": "execute_result"
    },
    {
     "data": {
      "image/png": "[encoded data removed]",
      "text/plain": [
       "<Figure size 432x288 with 1 Axes>"
      ]
     },
     "metadata": {},
     "output_type": "display_data"
    }
   ],
   "source": [
    "sns.histplot(df2['Errors'])"
   ]
  },
  {
   "cell_type": "code",
   "execution_count": 51,
   "id": "e025304d",
   "metadata": {},
   "outputs": [
    {
     "name": "stderr",
     "output_type": "stream",
     "text": [
      "C:\\Users\\farhanfarooq\\anaconda3\\lib\\site-packages\\seaborn\\distributions.py:2557: FutureWarning: `distplot` is a deprecated function and will be removed in a future version. Please adapt your code to use either `displot` (a figure-level function with similar flexibility) or `histplot` (an axes-level function for histograms).\n",
      "  warnings.warn(msg, FutureWarning)\n"
     ]
    },
    {
     "data": {
      "text/plain": [
       "<AxesSubplot:xlabel='Errors', ylabel='Density'>"
      ]
     },
     "execution_count": 51,
     "metadata": {},
     "output_type": "execute_result"
    },
    {
     "data": {
      "image/png": "[encoded data removed]",
      "text/plain": [
       "<Figure size 432x288 with 1 Axes>"
      ]
     },
     "metadata": {},
     "output_type": "display_data"
    }
   ],
   "source": [
    "sns.distplot(df2['Errors'])"
   ]
  },
  {
   "cell_type": "markdown",
   "id": "d995b985",
   "metadata": {},
   "source": [
    "# Residual Plot for Homoscedasticity"
   ]
  },
  {
   "cell_type": "code",
   "execution_count": 52,
   "id": "9717d03c",
   "metadata": {},
   "outputs": [],
   "source": [
    "def get_standardized_values(vals):\n",
    "    return(vals - vals.mean())/vals.std()"
   ]
  },
  {
   "cell_type": "code",
   "execution_count": 53,
   "id": "180116ae",
   "metadata": {},
   "outputs": [
    {
     "name": "stdout",
     "output_type": "stream",
     "text": [
      "0     2.048512\n",
      "1     1.962904\n",
      "2     1.784550\n",
      "3     1.569528\n",
      "4     1.529906\n",
      "5     1.312132\n",
      "6     1.173034\n",
      "7     1.221564\n",
      "8     1.010891\n",
      "9     1.090863\n",
      "10    0.597857\n",
      "11    0.599503\n",
      "12    0.435750\n",
      "13    0.393765\n",
      "14    0.955090\n",
      "15    0.870779\n",
      "16    0.124749\n",
      "17    0.462578\n",
      "18    0.432599\n",
      "19    0.092175\n",
      "20    0.117733\n",
      "21    0.135030\n",
      "22    0.068557\n",
      "23   -0.051297\n",
      "24    0.034359\n",
      "25   -0.248719\n",
      "26   -0.035929\n",
      "27    0.060951\n",
      "28   -0.263418\n",
      "29   -0.259984\n",
      "30   -0.319591\n",
      "31   -0.364489\n",
      "32   -0.331068\n",
      "33   -0.358709\n",
      "34   -0.584549\n",
      "35   -0.547086\n",
      "36   -0.934491\n",
      "37   -0.569784\n",
      "38   -1.076695\n",
      "39   -0.719666\n",
      "40   -0.946456\n",
      "41   -0.946797\n",
      "42   -1.053210\n",
      "43   -1.319192\n",
      "44   -1.206108\n",
      "45   -1.637667\n",
      "46   -1.420992\n",
      "47   -1.667184\n",
      "48   -1.598972\n",
      "49   -1.623304\n",
      "dtype: float64\n",
      "0    -0.029001\n",
      "1     0.294602\n",
      "2     0.995289\n",
      "3     1.029070\n",
      "4    -0.665334\n",
      "5    -0.736666\n",
      "6    -0.222642\n",
      "7    -0.477210\n",
      "8     0.052550\n",
      "9    -0.572899\n",
      "10    1.186432\n",
      "11    0.970983\n",
      "12    1.391517\n",
      "13    0.762344\n",
      "14   -1.894413\n",
      "15   -1.824222\n",
      "16    1.126578\n",
      "17   -0.539066\n",
      "18   -0.530709\n",
      "19    0.798373\n",
      "20    0.205065\n",
      "21   -0.671466\n",
      "22   -0.486821\n",
      "23   -0.141150\n",
      "24   -0.537819\n",
      "25    0.577582\n",
      "26   -0.544092\n",
      "27   -1.050811\n",
      "28    0.181365\n",
      "29   -0.088353\n",
      "30    0.054243\n",
      "31   -0.022839\n",
      "32   -0.175902\n",
      "33   -0.127005\n",
      "34    0.857833\n",
      "35    0.667160\n",
      "36    1.724045\n",
      "37    0.036847\n",
      "38    1.289135\n",
      "39   -0.304436\n",
      "40    0.382768\n",
      "41    0.334957\n",
      "42    0.098161\n",
      "43    1.072294\n",
      "44    0.065842\n",
      "45    1.931241\n",
      "46   -0.746257\n",
      "47   -0.439435\n",
      "48   -1.508955\n",
      "49   -3.748776\n",
      "dtype: float64\n"
     ]
    },
    {
     "data": {
      "image/png": "[encoded data removed]",
      "text/plain": [
       "<Figure size 432x288 with 1 Axes>"
      ]
     },
     "metadata": {},
     "output_type": "display_data"
    }
   ],
   "source": [
    "plt.scatter(get_standardized_values(model.fittedvalues),\n",
    "           get_standardized_values(model.resid))\n",
    "\n",
    "print(get_standardized_values(model.fittedvalues))\n",
    "print(get_standardized_values(model.resid))\n",
    "\n",
    "\n",
    "plt.title('Residual Plot')\n",
    "plt.xlabel('Standardized Fitted Values')\n",
    "plt.ylabel('Standardized residual Values')\n",
    "plt.show()"
   ]
  },
  {
   "cell_type": "code",
   "execution_count": 54,
   "id": "062d8c87",
   "metadata": {},
   "outputs": [
    {
     "data": {
      "text/plain": [
       "0.0"
      ]
     },
     "execution_count": 54,
     "metadata": {},
     "output_type": "execute_result"
    }
   ],
   "source": [
    "get_standardized_values(model.resid).mean()"
   ]
  },
  {
   "cell_type": "code",
   "execution_count": null,
   "id": "f2eb8190",
   "metadata": {},
   "outputs": [],
   "source": []
  }
 ],
 "metadata": {
  "kernelspec": {
   "display_name": "Python 3",
   "language": "python",
   "name": "python3"
  },
  "language_info": {
   "codemirror_mode": {
    "name": "ipython",
    "version": 3
   },
   "file_extension": ".py",
   "mimetype": "text/x-python",
   "name": "python",
   "nbconvert_exporter": "python",
   "pygments_lexer": "ipython3",
   "version": "3.8.8"
  }
 },
 "nbformat": 4,
 "nbformat_minor": 5
}
